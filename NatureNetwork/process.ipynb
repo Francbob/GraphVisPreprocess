{
 "cells": [
  {
   "cell_type": "code",
   "execution_count": 1,
   "metadata": {},
   "outputs": [],
   "source": [
    "import pandas as pd\n",
    "import numpy as np\n",
    "import networkx as nx"
   ]
  },
  {
   "cell_type": "code",
   "execution_count": 2,
   "metadata": {},
   "outputs": [
    {
     "name": "stdout",
     "output_type": "stream",
     "text": [
      "      x     y  size  PubYear  HierCat  NatureID  \\\n",
      "0 -1247  1345   5.3     1900        1  062366b0   \n",
      "1  -284  1083   4.6     1900       10  062340b0   \n",
      "2   822   346   7.9     1900        1  062620e0   \n",
      "3 -1316  1279   4.6     1900       10  062149b0   \n",
      "4   587  1598   4.0     1900        4  062523e0   \n",
      "\n",
      "                                               Title  \n",
      "0                            Atmospheric Electricity  \n",
      "1  The Conductivity produced in Gases by the Moti...  \n",
      "2                     Albinism and Natural Selection  \n",
      "3                            Atmospheric Electricity  \n",
      "4                        Leaf Decay and Autumn Tints  \n",
      "          source     target path\n",
      "239616  144926a0   276067a0  NaN\n",
      "239617  150267a0   163874b0  NaN\n",
      "239618  342275a0   342553a0  NaN\n",
      "239619  268218a0  2171136a0  NaN\n"
     ]
    }
   ],
   "source": [
    "node_df = pd.read_csv('./data/cociteNodes.csv')\n",
    "edge_df = pd.read_csv('./data/cociteEdges.csv')\n",
    "print(node_df[:5])\n",
    "print(edge_df[-5:-1])"
   ]
  },
  {
   "cell_type": "code",
   "execution_count": 3,
   "metadata": {},
   "outputs": [],
   "source": [
    "idx_node_df = node_df.reset_index()"
   ]
  },
  {
   "cell_type": "markdown",
   "metadata": {},
   "source": [
    "## Transform to NetworkX Format"
   ]
  },
  {
   "cell_type": "code",
   "execution_count": 4,
   "metadata": {},
   "outputs": [],
   "source": [
    "G = nx.DiGraph()\n",
    "nID2index = {}\n",
    "idx = 0\n",
    "for row in idx_node_df.iterrows():\n",
    "    obj = row[1]\n",
    "    G.add_node(row[0], id=obj['NatureID'], pubYear=obj['PubYear'], size=obj['size'], title=obj['Title'])\n",
    "    nID2index[obj['NatureID']] = row[0]"
   ]
  },
  {
   "cell_type": "code",
   "execution_count": 5,
   "metadata": {},
   "outputs": [
    {
     "name": "stdout",
     "output_type": "stream",
     "text": [
      "0\n",
      "062366b0\n"
     ]
    }
   ],
   "source": [
    "print(nID2index['062366b0'])\n",
    "print(G.nodes[nID2index['062366b0']]['id'])"
   ]
  },
  {
   "cell_type": "code",
   "execution_count": 6,
   "metadata": {},
   "outputs": [],
   "source": [
    "for row in edge_df.iterrows():\n",
    "    source = nID2index[row[1]['source']]\n",
    "    target = nID2index[row[1]['target']]\n",
    "    G.add_edge(source, target)"
   ]
  },
  {
   "cell_type": "code",
   "execution_count": 7,
   "metadata": {},
   "outputs": [
    {
     "data": {
      "text/plain": [
       "networkx.classes.reportviews.InDegreeView"
      ]
     },
     "execution_count": 7,
     "metadata": {},
     "output_type": "execute_result"
    }
   ],
   "source": [
    "in_degree = G.in_degree()\n",
    "out_degree = G.out_degree()\n",
    "type(in_degree)"
   ]
  },
  {
   "cell_type": "code",
   "execution_count": 8,
   "metadata": {},
   "outputs": [],
   "source": [
    "citation = [e[1] for e in in_degree]\n",
    "reference = [e[1] for e in out_degree]"
   ]
  },
  {
   "cell_type": "code",
   "execution_count": 9,
   "metadata": {},
   "outputs": [
    {
     "name": "stdout",
     "output_type": "stream",
     "text": [
      "The max number of citation:  78\n",
      "The max number of reference:  77\n",
      "The median number of citation:  2.0\n",
      "The median number of reference:  2.0\n",
      "The average number of edge per node: 2.714267914184092\n"
     ]
    },
    {
     "data": {
      "text/plain": [
       "11533"
      ]
     },
     "execution_count": 9,
     "metadata": {},
     "output_type": "execute_result"
    }
   ],
   "source": [
    "citation = np.array(citation)\n",
    "reference = np.array(reference)\n",
    "print('The max number of citation: ', citation.max())\n",
    "print('The max number of reference: ', reference.max())\n",
    "print('The median number of citation: ', np.median(citation))\n",
    "print('The median number of reference: ', np.median(reference))\n",
    "print('The average number of edge per node:', citation.mean() )\n",
    "(citation > 5).sum()"
   ]
  },
  {
   "cell_type": "markdown",
   "metadata": {},
   "source": [
    "- Only choose the paper with over 5 citation in this paper collection"
   ]
  },
  {
   "cell_type": "code",
   "execution_count": 10,
   "metadata": {},
   "outputs": [],
   "source": [
    "hCite = [e[0] for e in in_degree if e[1] > 5]"
   ]
  },
  {
   "cell_type": "code",
   "execution_count": 11,
   "metadata": {},
   "outputs": [
    {
     "data": {
      "text/plain": [
       "[7, 23, 31, 58, 72, 87, 92, 112, 115, 133]"
      ]
     },
     "execution_count": 11,
     "metadata": {},
     "output_type": "execute_result"
    }
   ],
   "source": [
    "hCite[:10]"
   ]
  },
  {
   "cell_type": "code",
   "execution_count": 12,
   "metadata": {},
   "outputs": [
    {
     "name": "stdout",
     "output_type": "stream",
     "text": [
      "11533\n",
      "35693\n"
     ]
    },
    {
     "data": {
      "text/plain": [
       "10389"
      ]
     },
     "execution_count": 12,
     "metadata": {},
     "output_type": "execute_result"
    }
   ],
   "source": [
    "SG = G.subgraph(hCite)\n",
    "print(len(SG.nodes()))\n",
    "print(len(SG.edges()))\n",
    "\n",
    "# we do not care about isolated nodes\n",
    "node_list = [e[0] for e in SG.degree() if e[1] != 0]\n",
    "len(node_list)"
   ]
  },
  {
   "cell_type": "code",
   "execution_count": 13,
   "metadata": {},
   "outputs": [],
   "source": [
    "positiveSG = SG.subgraph(node_list)\n",
    "data = nx.node_link_data(positiveSG)"
   ]
  },
  {
   "cell_type": "code",
   "execution_count": 14,
   "metadata": {},
   "outputs": [],
   "source": [
    "import json\n",
    "\n",
    "fp = open('natureH6.json', 'w')\n",
    "json.dump(data, fp)\n",
    "fp.close()\n"
   ]
  },
  {
   "cell_type": "code",
   "execution_count": null,
   "metadata": {},
   "outputs": [],
   "source": []
  },
  {
   "cell_type": "code",
   "execution_count": null,
   "metadata": {},
   "outputs": [],
   "source": []
  }
 ],
 "metadata": {
  "kernelspec": {
   "display_name": "Python 3",
   "language": "python",
   "name": "python3"
  },
  "language_info": {
   "codemirror_mode": {
    "name": "ipython",
    "version": 3
   },
   "file_extension": ".py",
   "mimetype": "text/x-python",
   "name": "python",
   "nbconvert_exporter": "python",
   "pygments_lexer": "ipython3",
   "version": "3.7.3"
  }
 },
 "nbformat": 4,
 "nbformat_minor": 2
}
